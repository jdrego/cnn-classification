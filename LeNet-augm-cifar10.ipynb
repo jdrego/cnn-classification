{
 "cells": [
  {
   "cell_type": "code",
   "execution_count": 211,
   "metadata": {},
   "outputs": [],
   "source": [
    "import torch\n",
    "import torch.nn as nn\n",
    "import torch.nn.functional as F\n",
    "import torch.optim as optim\n",
    "import torchvision\n",
    "import torchvision.transforms as transforms\n",
    "import torchvision.datasets as datasets\n",
    "from torch.utils.data import DataLoader\n",
    "import matplotlib.pyplot as plt\n",
    "import numpy as np\n",
    "import os\n",
    "import random\n",
    "try:\n",
    "    from apex import amp, optimizers\n",
    "    from apex.parallel import DistributedDataParallel as DDP\n",
    "    from apex.fp16_utils import *\n",
    "except ImportError:\n",
    "    raise ImportError(\"Apex not installed\")"
   ]
  },
  {
   "cell_type": "code",
   "execution_count": 216,
   "metadata": {},
   "outputs": [
    {
     "ename": "TypeError",
     "evalue": "initialize() missing 1 required positional argument: 'models'",
     "output_type": "error",
     "traceback": [
      "\u001b[0;31m---------------------------------------------------------------------------\u001b[0m",
      "\u001b[0;31mTypeError\u001b[0m                                 Traceback (most recent call last)",
      "\u001b[0;32m<ipython-input-216-95e4c093e2ae>\u001b[0m in \u001b[0;36m<module>\u001b[0;34m\u001b[0m\n\u001b[1;32m      1\u001b[0m \u001b[0mn_gpu\u001b[0m \u001b[0;34m=\u001b[0m \u001b[0;36m2\u001b[0m\u001b[0;34m\u001b[0m\u001b[0;34m\u001b[0m\u001b[0m\n\u001b[1;32m      2\u001b[0m \u001b[0;34m\u001b[0m\u001b[0m\n\u001b[0;32m----> 3\u001b[0;31m \u001b[0mamp\u001b[0m\u001b[0;34m.\u001b[0m\u001b[0minitialize\u001b[0m\u001b[0;34m(\u001b[0m\u001b[0menabled\u001b[0m\u001b[0;34m=\u001b[0m\u001b[0;32mTrue\u001b[0m\u001b[0;34m)\u001b[0m\u001b[0;34m\u001b[0m\u001b[0;34m\u001b[0m\u001b[0m\n\u001b[0m",
      "\u001b[0;31mTypeError\u001b[0m: initialize() missing 1 required positional argument: 'models'"
     ]
    }
   ],
   "source": [
    "n_gpu = 2\n",
    "\n",
    "amp.initialize(enabled=True)"
   ]
  },
  {
   "cell_type": "code",
   "execution_count": 165,
   "metadata": {},
   "outputs": [],
   "source": [
    "class gaussNoise():\n",
    "    \"\"\"Adds gaussian noise to a tensor.\n",
    "\n",
    "        >>> transforms.Compose([\n",
    "        >>>     transforms.ToTensor(),\n",
    "        >>>     gaussNoise(0.1, 0.05)),\n",
    "        >>> ])\n",
    "\n",
    "    \"\"\"\n",
    "    def __init__(self, mean, stddev):\n",
    "        self.mean = mean\n",
    "        self.stddev = stddev\n",
    "\n",
    "    def __call__(self, tensor):\n",
    "        noise = torch.zeros_like(tensor).normal_(self.mean, self.stddev)\n",
    "        return tensor.add_(noise)\n",
    "\n",
    "    def __repr__(self):\n",
    "        repr = f\"{self.__class__.__name__  }(mean={self.mean}, stddev={self.stddev})\"\n",
    "        return repr\n",
    "#transforms.Compose([gaussNoise(0.1,0.05)])"
   ]
  },
  {
   "cell_type": "code",
   "execution_count": 174,
   "metadata": {},
   "outputs": [
    {
     "name": "stdout",
     "output_type": "stream",
     "text": [
      "Files already downloaded and verified\n",
      "Files already downloaded and verified\n",
      "cuda:0\n"
     ]
    }
   ],
   "source": [
    "transform_test = transforms.Compose([transforms.ToTensor(),\n",
    "                                     transforms.Normalize((0.5, 0.5, 0.5), (0.5, 0.5, 0.5))])\n",
    "transform_train = transforms.Compose([transforms.RandomHorizontalFlip(), # randomly flip and rotate\n",
    "                                      #transforms.RandomVerticalFlip(),\n",
    "                                      transforms.RandomRotation(10),\n",
    "                                      transforms.ToTensor(),\n",
    "                                      #transforms.RandomApply([gaussNoise(0.05,0.05)], p=0.5),\n",
    "                                      transforms.Normalize((0.5, 0.5, 0.5), (0.5, 0.5, 0.5))])\n",
    "# Import Datasets\n",
    "trainset = datasets.CIFAR10(root='./data', train=True,\n",
    "                                        download=True, transform=transform_train)\n",
    "trainloader = DataLoader(trainset, batch_size=4,\n",
    "                         shuffle=True, num_workers=2)\n",
    "\n",
    "testset = datasets.CIFAR10(root='./data', train=False,\n",
    "                                        download=True, transform=transform_test)\n",
    "testloader = DataLoader(trainset, batch_size=4,\n",
    "                         shuffle=True, num_workers=2)\n",
    "\n",
    "device = torch.device(\"cuda:0\" if torch.cuda.is_available() else \"cpu\")\n",
    "print(device)\n",
    "\n",
    "# Define Classes\n",
    "classes = ('plane', 'car', 'bird', 'cat', 'deer', 'dog', 'frog', 'horse', 'ship', 'truck')\n"
   ]
  },
  {
   "cell_type": "code",
   "execution_count": 175,
   "metadata": {},
   "outputs": [
    {
     "data": {
      "image/png": "[encoded data removed]",
      "text/plain": [
       "<Figure size 432x288 with 1 Axes>"
      ]
     },
     "metadata": {
      "needs_background": "light"
     },
     "output_type": "display_data"
    },
    {
     "name": "stdout",
     "output_type": "stream",
     "text": [
      "  car  deer   cat   dog\n"
     ]
    }
   ],
   "source": [
    "# Display some training images\n",
    "def imshow(img):\n",
    "    img = img / 2 + 0.5     #unnormalize\n",
    "    npimg = img.numpy()\n",
    "    plt.imshow(np.transpose(npimg, (1,2,0)))\n",
    "    plt.show()\n",
    "\n",
    "# Get some training images\n",
    "dataiter = iter(trainloader)\n",
    "images, labels = dataiter.next()\n",
    "\n",
    "# Show images\n",
    "imshow(torchvision.utils.make_grid(images))\n",
    "# Print labels\n",
    "print(' '.join('%5s' % classes[labels[j]] for j in range(4)))"
   ]
  },
  {
   "cell_type": "code",
   "execution_count": 176,
   "metadata": {},
   "outputs": [],
   "source": [
    "# Define CNN Architecture\n",
    "class Net(nn.Module):\n",
    "    def __init__(self):\n",
    "        super(Net, self).__init__()\n",
    "        self.conv1 = nn.Conv2d(3, 6, 5)\n",
    "        self.pool = nn.MaxPool2d(2, 2)\n",
    "        self.conv2 = nn.Conv2d(6, 16, 5)\n",
    "        self.fc1 = nn.Linear(16 * 5 * 5, 120)\n",
    "        self.fc2 = nn.Linear(120, 84)\n",
    "        self.fc3 = nn.Linear(84, 10)\n",
    "\n",
    "    def forward(self, x):\n",
    "        x = self.pool(F.relu(self.conv1(x)))\n",
    "        x = self.pool(F.relu(self.conv2(x)))\n",
    "        x = x.view(-1, 16 * 5 * 5)\n",
    "        x = F.relu(self.fc1(x))\n",
    "        x = F.relu(self.fc2(x))\n",
    "        x = self.fc3(x)\n",
    "        return x\n"
   ]
  },
  {
   "cell_type": "code",
   "execution_count": 214,
   "metadata": {},
   "outputs": [
    {
     "name": "stdout",
     "output_type": "stream",
     "text": [
      "['cifar_net_02.pt', 'cifar_net_04.pt', 'cifar_net_06.pt', 'cifar_net_08.pt', 'cifar_net_10.pt']\n",
      "Loading Last Checkpoint: cifar_net_10.pt\n",
      "Last Epoch: 10\n",
      "\n",
      "NETWORK MODEL:\n",
      "DataParallel(\n",
      "  (module): Net(\n",
      "    (conv1): Conv2d(3, 6, kernel_size=(5, 5), stride=(1, 1))\n",
      "    (pool): MaxPool2d(kernel_size=2, stride=2, padding=0, dilation=1, ceil_mode=False)\n",
      "    (conv2): Conv2d(6, 16, kernel_size=(5, 5), stride=(1, 1))\n",
      "    (fc1): Linear(in_features=400, out_features=120, bias=True)\n",
      "    (fc2): Linear(in_features=120, out_features=84, bias=True)\n",
      "    (fc3): Linear(in_features=84, out_features=10, bias=True)\n",
      "  )\n",
      ")\n",
      "\n",
      "MODEL STATE_DICT:\n",
      "module.conv1.weight \t torch.Size([6, 3, 5, 5])\n",
      "module.conv1.bias \t torch.Size([6])\n",
      "module.conv2.weight \t torch.Size([16, 6, 5, 5])\n",
      "module.conv2.bias \t torch.Size([16])\n",
      "module.fc1.weight \t torch.Size([120, 400])\n",
      "module.fc1.bias \t torch.Size([120])\n",
      "module.fc2.weight \t torch.Size([84, 120])\n",
      "module.fc2.bias \t torch.Size([84])\n",
      "module.fc3.weight \t torch.Size([10, 84])\n",
      "module.fc3.bias \t torch.Size([10])\n",
      "\n",
      "OPTIMIZER STATE_DICT:\n",
      "param_groups \t [{'lr': 0.0022052756718749997, 'momentum': 0.9, 'dampening': 0, 'weight_decay': 0, 'nesterov': False, 'initial_lr': 0.003, 'params': [140565934437288, 140565934437360, 140565934437216, 140565934437576, 140565934437648, 140565934437720, 140565934437792, 140565934437864, 140565934437936, 140565934438008]}]\n",
      "\n",
      "SCHEDULER STATE_DICT:\n",
      "step_size \t 1\n",
      "gamma \t 0.95\n",
      "base_lrs \t [0.003]\n",
      "last_epoch \t 6\n",
      "Learning Rate: [0.0020950118882812497]\n"
     ]
    }
   ],
   "source": [
    "# Initialize model\n",
    "net = Net()\n",
    "if n_gpu > 1:\n",
    "    net = nn.DataParallel(net, list(range(n_gpu)))\n",
    "# Send model to GPU\n",
    "net = net.to(device)\n",
    "\n",
    "# Initialize Loss Function    \n",
    "criterion = nn.CrossEntropyLoss()\n",
    "# Initialize SGD Optimizer\n",
    "optimizer = optim.SGD(net.parameters(), lr=0.003, momentum=0.9)\n",
    "# Initialize Learning Rate Scheduler\n",
    "scheduler = optim.lr_scheduler.StepLR(optimizer, step_size=1, gamma=0.9, last_epoch=-1)\n",
    "\n",
    "# Define directory to save and load checkpoints\n",
    "CHECKPOINT_DIR = './checkpoints/LeNet_augm/'\n",
    "# Read in available checkpoints and sort \n",
    "checkpoints = sorted([f for f in os.listdir(CHECKPOINT_DIR) if os.path.isfile(CHECKPOINT_DIR + f)])\n",
    "print(checkpoints)\n",
    "\n",
    "## LOAD PREVIOUS CHECKPOINT ##\n",
    "# If no checkpoints available\n",
    "if len(checkpoints) == 0:\n",
    "    print('Last Checkpoint: [None]')\n",
    "    # Start from first epoch\n",
    "    last_epoch = 0\n",
    "\n",
    "# Else if checkpoints available\n",
    "else:\n",
    "    print('Loading Last Checkpoint:', checkpoints[-1])\n",
    "    # Use last checkpoint number as last epoch\n",
    "    last_epoch = int(checkpoints[-1][10:-3])\n",
    "    # Load latest checkpoint\n",
    "    latest_checkpoint = torch.load(CHECKPOINT_DIR + checkpoints[-1])\n",
    "    \n",
    "    # Load model state\n",
    "    net.load_state_dict(latest_checkpoint['net_state'])\n",
    "    net.train()\n",
    "    # Load Optimizer and Scheduler State\n",
    "    optimizer.load_state_dict(latest_checkpoint['optimizer_state'])\n",
    "    scheduler.load_state_dict(latest_checkpoint['scheduler_state'])\n",
    "\n",
    "\n",
    "\n",
    "print('Last Epoch:', last_epoch); print()\n",
    "print('NETWORK MODEL:')\n",
    "print(net); print()\n",
    "print('MODEL STATE_DICT:')\n",
    "for param_tensor in net.state_dict():\n",
    "    print(param_tensor, \"\\t\", net.state_dict()[param_tensor].size())\n",
    "print()\n",
    "print('OPTIMIZER STATE_DICT:')\n",
    "for var_name in optimizer.state_dict():\n",
    "    if var_name != 'state':\n",
    "        print(var_name, \"\\t\", optimizer.state_dict()[var_name])\n",
    "print()\n",
    "print('SCHEDULER STATE_DICT:')\n",
    "for var_name in scheduler.state_dict():\n",
    "    print(var_name, \"\\t\", scheduler.state_dict()[var_name])\n",
    "print('Learning Rate:', scheduler.get_lr())"
   ]
  },
  {
   "cell_type": "code",
   "execution_count": 215,
   "metadata": {},
   "outputs": [
    {
     "name": "stdout",
     "output_type": "stream",
     "text": [
      "EPOCH: 11    LR: [0.0020950118882812497]\n"
     ]
    },
    {
     "ename": "RuntimeError",
     "evalue": "The old Amp API is no longer supported.  Please move to the new API, documented here:  https://nvidia.github.io/apex/amp.html.  Transition guide:  https://nvidia.github.io/apex/amp.html#transition-guide-for-old-api-users",
     "output_type": "error",
     "traceback": [
      "\u001b[0;31m---------------------------------------------------------------------------\u001b[0m",
      "\u001b[0;31mRuntimeError\u001b[0m                              Traceback (most recent call last)",
      "\u001b[0;32m<ipython-input-215-6b1c6c93aac6>\u001b[0m in \u001b[0;36m<module>\u001b[0;34m\u001b[0m\n\u001b[1;32m     31\u001b[0m         \u001b[0moutputs\u001b[0m \u001b[0;34m=\u001b[0m \u001b[0mnet\u001b[0m\u001b[0;34m(\u001b[0m\u001b[0minputs\u001b[0m\u001b[0;34m.\u001b[0m\u001b[0mto\u001b[0m\u001b[0;34m(\u001b[0m\u001b[0mdevice\u001b[0m\u001b[0;34m)\u001b[0m\u001b[0;34m)\u001b[0m\u001b[0;34m\u001b[0m\u001b[0;34m\u001b[0m\u001b[0m\n\u001b[1;32m     32\u001b[0m         \u001b[0mloss\u001b[0m \u001b[0;34m=\u001b[0m \u001b[0mcriterion\u001b[0m\u001b[0;34m(\u001b[0m\u001b[0moutputs\u001b[0m\u001b[0;34m,\u001b[0m \u001b[0mlabels\u001b[0m\u001b[0;34m.\u001b[0m\u001b[0mto\u001b[0m\u001b[0;34m(\u001b[0m\u001b[0mdevice\u001b[0m\u001b[0;34m)\u001b[0m\u001b[0;34m)\u001b[0m\u001b[0;34m\u001b[0m\u001b[0;34m\u001b[0m\u001b[0m\n\u001b[0;32m---> 33\u001b[0;31m         \u001b[0;32mwith\u001b[0m \u001b[0mamp_handle\u001b[0m\u001b[0;34m.\u001b[0m\u001b[0mscale_loss\u001b[0m\u001b[0;34m(\u001b[0m\u001b[0mloss\u001b[0m\u001b[0;34m,\u001b[0m \u001b[0moptimizer\u001b[0m\u001b[0;34m)\u001b[0m \u001b[0;32mas\u001b[0m \u001b[0mscaled_loss\u001b[0m\u001b[0;34m:\u001b[0m\u001b[0;34m\u001b[0m\u001b[0;34m\u001b[0m\u001b[0m\n\u001b[0m\u001b[1;32m     34\u001b[0m             \u001b[0mscaled_loss\u001b[0m\u001b[0;34m.\u001b[0m\u001b[0mbackward\u001b[0m\u001b[0;34m(\u001b[0m\u001b[0;34m)\u001b[0m\u001b[0;34m\u001b[0m\u001b[0;34m\u001b[0m\u001b[0m\n\u001b[1;32m     35\u001b[0m         \u001b[0;31m#loss.backward()\u001b[0m\u001b[0;34m\u001b[0m\u001b[0;34m\u001b[0m\u001b[0;34m\u001b[0m\u001b[0m\n",
      "\u001b[0;32m~/anaconda3/envs/torch/lib/python3.7/contextlib.py\u001b[0m in \u001b[0;36m__enter__\u001b[0;34m(self)\u001b[0m\n\u001b[1;32m    110\u001b[0m         \u001b[0;32mdel\u001b[0m \u001b[0mself\u001b[0m\u001b[0;34m.\u001b[0m\u001b[0margs\u001b[0m\u001b[0;34m,\u001b[0m \u001b[0mself\u001b[0m\u001b[0;34m.\u001b[0m\u001b[0mkwds\u001b[0m\u001b[0;34m,\u001b[0m \u001b[0mself\u001b[0m\u001b[0;34m.\u001b[0m\u001b[0mfunc\u001b[0m\u001b[0;34m\u001b[0m\u001b[0;34m\u001b[0m\u001b[0m\n\u001b[1;32m    111\u001b[0m         \u001b[0;32mtry\u001b[0m\u001b[0;34m:\u001b[0m\u001b[0;34m\u001b[0m\u001b[0;34m\u001b[0m\u001b[0m\n\u001b[0;32m--> 112\u001b[0;31m             \u001b[0;32mreturn\u001b[0m \u001b[0mnext\u001b[0m\u001b[0;34m(\u001b[0m\u001b[0mself\u001b[0m\u001b[0;34m.\u001b[0m\u001b[0mgen\u001b[0m\u001b[0;34m)\u001b[0m\u001b[0;34m\u001b[0m\u001b[0;34m\u001b[0m\u001b[0m\n\u001b[0m\u001b[1;32m    113\u001b[0m         \u001b[0;32mexcept\u001b[0m \u001b[0mStopIteration\u001b[0m\u001b[0;34m:\u001b[0m\u001b[0;34m\u001b[0m\u001b[0;34m\u001b[0m\u001b[0m\n\u001b[1;32m    114\u001b[0m             \u001b[0;32mraise\u001b[0m \u001b[0mRuntimeError\u001b[0m\u001b[0;34m(\u001b[0m\u001b[0;34m\"generator didn't yield\"\u001b[0m\u001b[0;34m)\u001b[0m \u001b[0;32mfrom\u001b[0m \u001b[0;32mNone\u001b[0m\u001b[0;34m\u001b[0m\u001b[0;34m\u001b[0m\u001b[0m\n",
      "\u001b[0;32m~/anaconda3/envs/torch/lib/python3.7/site-packages/apex/amp/handle.py\u001b[0m in \u001b[0;36mscale_loss\u001b[0;34m(self, loss, optimizer)\u001b[0m\n\u001b[1;32m    192\u001b[0m     \u001b[0;34m@\u001b[0m\u001b[0mcontextlib\u001b[0m\u001b[0;34m.\u001b[0m\u001b[0mcontextmanager\u001b[0m\u001b[0;34m\u001b[0m\u001b[0;34m\u001b[0m\u001b[0m\n\u001b[1;32m    193\u001b[0m     \u001b[0;32mdef\u001b[0m \u001b[0mscale_loss\u001b[0m\u001b[0;34m(\u001b[0m\u001b[0mself\u001b[0m\u001b[0;34m,\u001b[0m \u001b[0mloss\u001b[0m\u001b[0;34m,\u001b[0m \u001b[0moptimizer\u001b[0m\u001b[0;34m)\u001b[0m\u001b[0;34m:\u001b[0m\u001b[0;34m\u001b[0m\u001b[0;34m\u001b[0m\u001b[0m\n\u001b[0;32m--> 194\u001b[0;31m         raise RuntimeError(\"The old Amp API is no longer supported.  Please move to the new API, \"\n\u001b[0m\u001b[1;32m    195\u001b[0m             \u001b[0;34m\"documented here:  https://nvidia.github.io/apex/amp.html.  Transition guide:  \"\u001b[0m\u001b[0;34m\u001b[0m\u001b[0;34m\u001b[0m\u001b[0m\n\u001b[1;32m    196\u001b[0m             \"https://nvidia.github.io/apex/amp.html#transition-guide-for-old-api-users\")\n",
      "\u001b[0;31mRuntimeError\u001b[0m: The old Amp API is no longer supported.  Please move to the new API, documented here:  https://nvidia.github.io/apex/amp.html.  Transition guide:  https://nvidia.github.io/apex/amp.html#transition-guide-for-old-api-users"
     ]
    }
   ],
   "source": [
    "# Train the Network\n",
    "# Define Number of Epochs to train\n",
    "n_epochs = 10\n",
    "# Define noise factor \n",
    "noise_factor = 0.25\n",
    "\n",
    "for epoch in range(last_epoch, last_epoch+n_epochs):\n",
    "    print('EPOCH:', epoch+1, '   LR:', scheduler.get_lr())\n",
    "    # Restart running loss and number of gaussian batches\n",
    "    running_loss = 0.0\n",
    "    gauss_batches = 0\n",
    "    # For each batch\n",
    "    for i, data in enumerate(trainloader, 0):\n",
    "        # get the inputs; data is a list of [inputs, labels]\n",
    "        #inputs, labels = data[0].to(device), data[1].to(device)\n",
    "        inputs, labels = data[0], data[1]\n",
    "\n",
    "        # Add noise\n",
    "        prob_noise = random.random()\n",
    "        if prob_noise >= 0.5:\n",
    "            gauss_batches += 1\n",
    "            ## add random noise to the input images\n",
    "            inputs = inputs + noise_factor * torch.randn(*inputs.shape)\n",
    "            # Clip the images to be between 0 and 1\n",
    "            inputs = np.clip(inputs, 0., 1.)\n",
    "\n",
    "        # Zero the parameter gradients\n",
    "        optimizer.zero_grad()\n",
    "\n",
    "        # forward + backward + optimize\n",
    "        outputs = net(inputs.to(device))\n",
    "        loss = criterion(outputs, labels.to(device))\n",
    "        #with amp_handle.scale_loss(loss, optimizer) as scaled_loss:\n",
    "        #    scaled_loss.backward()\n",
    "        loss.backward()\n",
    "        optimizer.step()\n",
    "\n",
    "        # Print Statistics\n",
    "        running_loss += loss.item()\n",
    "        if i % 1000 == 999:\n",
    "            print('[%d, %5d] loss: %.3f, Noise batches %d / 1000' %\n",
    "                  (epoch + 1, i + 1, running_loss / 1000, gauss_batches))\n",
    "            running_loss = 0.0\n",
    "            gauss_batches = 0\n",
    "    \n",
    "    # Step Learning Rate Scheduler\n",
    "    scheduler.step()\n",
    "    \n",
    "    # Save checkpoint every 5 epochs\n",
    "    if (epoch+1) % 2 == 0:\n",
    "        PATH = CHECKPOINT_DIR+'cifar_net_' + str(epoch+1) + '.pt'\n",
    "        current_state = {'net_state': net.state_dict(),\n",
    "                         'optimizer_state': optimizer.state_dict(),\n",
    "                         'scheduler_state': scheduler.state_dict()}\n",
    "        torch.save(current_state, PATH)\n",
    "        print('Checkpoint for Epoch', epoch+1, 'saved in', PATH)\n",
    "    \n",
    "print('Finished Training')"
   ]
  },
  {
   "cell_type": "code",
   "execution_count": 204,
   "metadata": {},
   "outputs": [
    {
     "data": {
      "image/png": "[encoded data removed]",
      "text/plain": [
       "<Figure size 432x288 with 1 Axes>"
      ]
     },
     "metadata": {
      "needs_background": "light"
     },
     "output_type": "display_data"
    },
    {
     "name": "stdout",
     "output_type": "stream",
     "text": [
      "GroundTruth:   cat truck   dog  ship\n",
      "Predicted:    cat  bird   cat  ship\n"
     ]
    }
   ],
   "source": [
    "dataiter = iter(testloader)\n",
    "images, labels = dataiter.next()\n",
    "\n",
    "# Print Images\n",
    "imshow(torchvision.utils.make_grid(images))\n",
    "print('GroundTruth:', ' '.join('%5s' % classes[labels[j]] for j in range(4)))\n",
    "\n",
    "net = Net()\n",
    "if n_gpu > 1:\n",
    "    net = nn.DataParallel(net, list(range(n_gpu)))\n",
    "\n",
    "# Load latest checkpoint\n",
    "latest_checkpoint = torch.load(PATH)\n",
    "    \n",
    "# Load model state\n",
    "net.load_state_dict(latest_checkpoint['net_state'])\n",
    "net.eval()\n",
    "net.to(device)\n",
    "\n",
    "images = images.to(device)\n",
    "labels = labels.to(device)\n",
    "outputs = net(images)\n",
    "\n",
    "_, predicted = torch.max(outputs, 1)\n",
    "print('Predicted: ', ' '.join('%5s' % classes[predicted[j]] for j in range(4)))"
   ]
  },
  {
   "cell_type": "code",
   "execution_count": 205,
   "metadata": {},
   "outputs": [
    {
     "name": "stdout",
     "output_type": "stream",
     "text": [
      "Accuracy of the network on the 10000 test images: 51 %\n"
     ]
    }
   ],
   "source": [
    "correct = 0\n",
    "total = 0\n",
    "with torch.no_grad():\n",
    "    for data in testloader:\n",
    "        images, labels = data[0].to(device), data[1].to(device)\n",
    "        outputs = net(images)\n",
    "        _, predicted = torch.max(outputs.data, 1)\n",
    "        total += labels.size(0)\n",
    "        correct += (predicted == labels).sum().item()\n",
    "\n",
    "print('Accuracy of the network on the 10000 test images: %d %%' % (\n",
    "    100 * correct / total))\n"
   ]
  },
  {
   "cell_type": "code",
   "execution_count": 199,
   "metadata": {},
   "outputs": [
    {
     "name": "stdout",
     "output_type": "stream",
     "text": [
      "Accuracy of plane : 51 %\n",
      "Accuracy of   car : 51 %\n",
      "Accuracy of  bird : 23 %\n",
      "Accuracy of   cat : 43 %\n",
      "Accuracy of  deer : 40 %\n",
      "Accuracy of   dog : 25 %\n",
      "Accuracy of  frog : 52 %\n",
      "Accuracy of horse : 60 %\n",
      "Accuracy of  ship : 68 %\n",
      "Accuracy of truck : 68 %\n"
     ]
    }
   ],
   "source": [
    "class_correct = list(0. for i in range(10))\n",
    "class_total = list(0. for i in range(10))\n",
    "with torch.no_grad():\n",
    "    for data in testloader:\n",
    "        images, labels = data[0].to(device), data[1].to(device)\n",
    "        outputs = net(images)\n",
    "        _, predicted = torch.max(outputs, 1)\n",
    "        c = (predicted == labels).squeeze()\n",
    "        for i in range(4):\n",
    "            label = labels[i]\n",
    "            class_correct[label] += c[i].item()\n",
    "            class_total[label] += 1\n",
    "\n",
    "\n",
    "for i in range(10):\n",
    "    print('Accuracy of %5s : %2d %%' % (\n",
    "        classes[i], 100 * class_correct[i] / class_total[i]))"
   ]
  },
  {
   "cell_type": "code",
   "execution_count": null,
   "metadata": {},
   "outputs": [],
   "source": []
  }
 ],
 "metadata": {
  "kernelspec": {
   "display_name": "Python 3",
   "language": "python",
   "name": "python3"
  },
  "language_info": {
   "codemirror_mode": {
    "name": "ipython",
    "version": 3
   },
   "file_extension": ".py",
   "mimetype": "text/x-python",
   "name": "python",
   "nbconvert_exporter": "python",
   "pygments_lexer": "ipython3",
   "version": "3.7.3"
  }
 },
 "nbformat": 4,
 "nbformat_minor": 4
}
