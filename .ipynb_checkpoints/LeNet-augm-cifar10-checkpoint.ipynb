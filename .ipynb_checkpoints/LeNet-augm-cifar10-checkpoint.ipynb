{
 "cells": [
  {
   "cell_type": "code",
   "execution_count": 1,
   "metadata": {},
   "outputs": [],
   "source": [
    "import torch\n",
    "import torch.nn as nn\n",
    "import torch.nn.functional as F\n",
    "import torchvision\n",
    "import torchvision.transforms as transforms\n",
    "import torchvision.datasets as datasets\n",
    "from torch.utils.data import DataLoader\n",
    "import matplotlib.pyplot as plt\n",
    "import numpy as np\n",
    "import os\n"
   ]
  },
  {
   "cell_type": "code",
   "execution_count": 2,
   "metadata": {},
   "outputs": [],
   "source": [
    "n_gpu = 2"
   ]
  },
  {
   "cell_type": "code",
   "execution_count": 4,
   "metadata": {},
   "outputs": [
    {
     "name": "stdout",
     "output_type": "stream",
     "text": [
      "Files already downloaded and verified\n",
      "Files already downloaded and verified\n",
      "cuda:0\n"
     ]
    }
   ],
   "source": [
    "transform = transforms.Compose([transforms.ToTensor(),\n",
    "                                transforms.Normalize((0.5, 0.5, 0.5), (0.5, 0.5, 0.5))])\n",
    "\n",
    "# Import Datasets\n",
    "trainset = datasets.CIFAR10(root='./data', train=True,\n",
    "                                        download=True, transform=transform)\n",
    "trainloader = DataLoader(trainset, batch_size=4,\n",
    "                         shuffle=True, num_workers=2)\n",
    "\n",
    "testset = datasets.CIFAR10(root='./data', train=False,\n",
    "                                        download=True, transform=transform)\n",
    "testloader = DataLoader(trainset, batch_size=4,\n",
    "                         shuffle=True, num_workers=2)\n",
    "\n",
    "device = torch.device(\"cuda:0\" if torch.cuda.is_available() else \"cpu\")\n",
    "print(device)\n",
    "\n",
    "# Define Classes\n",
    "classes = ('plane', 'car', 'bird', 'cat', 'deer', 'dog', 'frog', 'horse', 'ship', 'truck')\n"
   ]
  },
  {
   "cell_type": "code",
   "execution_count": 5,
   "metadata": {},
   "outputs": [
    {
     "data": {
      "image/png": "[encoded data removed]",
      "text/plain": [
       "<Figure size 432x288 with 1 Axes>"
      ]
     },
     "metadata": {
      "needs_background": "light"
     },
     "output_type": "display_data"
    },
    {
     "name": "stdout",
     "output_type": "stream",
     "text": [
      " frog  deer   dog  frog\n"
     ]
    }
   ],
   "source": [
    "# Display some training images\n",
    "def imshow(img):\n",
    "    img = img / 2 + 0.5     #unnormalize\n",
    "    npimg = img.numpy()\n",
    "    plt.imshow(np.transpose(npimg, (1,2,0)))\n",
    "    plt.show()\n",
    "\n",
    "# Get some training images\n",
    "dataiter = iter(trainloader)\n",
    "images, labels = dataiter.next()\n",
    "\n",
    "# Show images\n",
    "imshow(torchvision.utils.make_grid(images))\n",
    "# Print labels\n",
    "print(' '.join('%5s' % classes[labels[j]] for j in range(4)))"
   ]
  },
  {
   "cell_type": "code",
   "execution_count": 6,
   "metadata": {},
   "outputs": [],
   "source": [
    "# Define CNN Architecture\n",
    "class Net(nn.Module):\n",
    "    def __init__(self):\n",
    "        super(Net, self).__init__()\n",
    "        self.conv1 = nn.Conv2d(3, 6, 5)\n",
    "        self.pool = nn.MaxPool2d(2, 2)\n",
    "        self.conv2 = nn.Conv2d(6, 16, 5)\n",
    "        self.fc1 = nn.Linear(16 * 5 * 5, 120)\n",
    "        self.fc2 = nn.Linear(120, 84)\n",
    "        self.fc3 = nn.Linear(84, 10)\n",
    "\n",
    "    def forward(self, x):\n",
    "        x = self.pool(F.relu(self.conv1(x)))\n",
    "        x = self.pool(F.relu(self.conv2(x)))\n",
    "        x = x.view(-1, 16 * 5 * 5)\n",
    "        x = F.relu(self.fc1(x))\n",
    "        x = F.relu(self.fc2(x))\n",
    "        x = self.fc3(x)\n",
    "        return x\n"
   ]
  },
  {
   "cell_type": "code",
   "execution_count": 80,
   "metadata": {},
   "outputs": [
    {
     "name": "stdout",
     "output_type": "stream",
     "text": [
      "Last Checkpoint: cifar_net_35.pt\n",
      "Last Epoch: 35\n"
     ]
    }
   ],
   "source": [
    "checkpoints = sorted(os.listdir('./checkpoints/'))\n",
    "print('Last Checkpoint:', checkpoints[-1])\n",
    "\n",
    "last_epoch = 0\n",
    "net = Net()\n",
    "if n_gpu > 1:\n",
    "    net = nn.DataParallel(net, list(range(n_gpu)))\n",
    "if checkpoints != None:\n",
    "    last_epoch = int(checkpoints[-1][10:-3])\n",
    "    net.load_state_dict(torch.load('./checkpoints/'+checkpoints[-1]))\n",
    "print('Last Epoch:', last_epoch)\n",
    "net = net.to(device)\n"
   ]
  },
  {
   "cell_type": "code",
   "execution_count": 81,
   "metadata": {},
   "outputs": [],
   "source": [
    "# Define a Loss Function and Optimizer\n",
    "import torch.optim as optim\n",
    "\n",
    "criterion = nn.CrossEntropyLoss()\n",
    "optimizer = optim.SGD(net.parameters(), lr=0.0003, momentum=0.9)"
   ]
  },
  {
   "cell_type": "code",
   "execution_count": 82,
   "metadata": {},
   "outputs": [
    {
     "name": "stdout",
     "output_type": "stream",
     "text": [
      "[36,  1000] loss: 0.076\n",
      "[36,  2000] loss: 0.084\n",
      "[36,  3000] loss: 0.088\n",
      "[36,  4000] loss: 0.085\n",
      "[36,  5000] loss: 0.097\n",
      "[36,  6000] loss: 0.112\n",
      "[36,  7000] loss: 0.098\n",
      "[36,  8000] loss: 0.107\n",
      "[36,  9000] loss: 0.113\n",
      "[36, 10000] loss: 0.136\n",
      "[36, 11000] loss: 0.116\n",
      "[36, 12000] loss: 0.133\n",
      "[37,  1000] loss: 0.077\n",
      "[37,  2000] loss: 0.088\n",
      "[37,  3000] loss: 0.090\n",
      "[37,  4000] loss: 0.093\n",
      "[37,  5000] loss: 0.091\n",
      "[37,  6000] loss: 0.085\n",
      "[37,  7000] loss: 0.101\n",
      "[37,  8000] loss: 0.121\n",
      "[37,  9000] loss: 0.135\n",
      "[37, 10000] loss: 0.128\n",
      "[37, 11000] loss: 0.134\n",
      "[37, 12000] loss: 0.153\n",
      "[38,  1000] loss: 0.103\n",
      "[38,  2000] loss: 0.094\n",
      "[38,  3000] loss: 0.099\n",
      "[38,  4000] loss: 0.112\n",
      "[38,  5000] loss: 0.103\n",
      "[38,  6000] loss: 0.124\n",
      "[38,  7000] loss: 0.126\n",
      "[38,  8000] loss: 0.131\n",
      "[38,  9000] loss: 0.138\n",
      "[38, 10000] loss: 0.120\n",
      "[38, 11000] loss: 0.150\n",
      "[38, 12000] loss: 0.173\n",
      "[39,  1000] loss: 0.109\n",
      "[39,  2000] loss: 0.121\n",
      "[39,  3000] loss: 0.124\n",
      "[39,  4000] loss: 0.123\n",
      "[39,  5000] loss: 0.131\n",
      "[39,  6000] loss: 0.147\n",
      "[39,  7000] loss: 0.154\n",
      "[39,  8000] loss: 0.166\n",
      "[39,  9000] loss: 0.148\n",
      "[39, 10000] loss: 0.181\n",
      "[39, 11000] loss: 0.162\n",
      "[39, 12000] loss: 0.167\n",
      "[40,  1000] loss: 0.133\n",
      "[40,  2000] loss: 0.112\n",
      "[40,  3000] loss: 0.112\n",
      "[40,  4000] loss: 0.136\n",
      "[40,  5000] loss: 0.140\n",
      "[40,  6000] loss: 0.171\n",
      "[40,  7000] loss: 0.154\n",
      "[40,  8000] loss: 0.163\n",
      "[40,  9000] loss: 0.143\n",
      "[40, 10000] loss: 0.180\n",
      "[40, 11000] loss: 0.160\n",
      "[40, 12000] loss: 0.181\n",
      "Finished Training\n"
     ]
    }
   ],
   "source": [
    "# Train the Network\n",
    "n_epochs = 5\n",
    "for epoch in range(last_epoch, last_epoch+n_epochs):\n",
    "\n",
    "    running_loss = 0.0\n",
    "    for i, data in enumerate(trainloader, 0):\n",
    "        # get the inputs; data is a list of [inputs, labels]\n",
    "        inputs, labels = data[0].to(device), data[1].to(device)\n",
    "\n",
    "        # Zero the parameter gradients\n",
    "        optimizer.zero_grad()\n",
    "\n",
    "        # forward + backward + optimize\n",
    "        outputs = net(inputs)\n",
    "        loss = criterion(outputs, labels)\n",
    "        loss.backward()\n",
    "        optimizer.step()\n",
    "\n",
    "        # Print Statistics\n",
    "        running_loss += loss.item()\n",
    "        if i % 1000 == 999:\n",
    "            print('[%d, %5d] loss: %.3f' %\n",
    "                  (epoch + 1, i + 1, running_loss / 1000))\n",
    "            running_loss = 0.0\n",
    "print('Finished Training')\n",
    "\n",
    "PATH = './checkpoints/cifar_net_' + str(last_epoch+n_epochs) + '.pt'\n",
    "torch.save(net.state_dict(), PATH)"
   ]
  },
  {
   "cell_type": "code",
   "execution_count": 86,
   "metadata": {},
   "outputs": [
    {
     "data": {
      "image/png": "[encoded data removed]",
      "text/plain": [
       "<Figure size 432x288 with 1 Axes>"
      ]
     },
     "metadata": {
      "needs_background": "light"
     },
     "output_type": "display_data"
    },
    {
     "name": "stdout",
     "output_type": "stream",
     "text": [
      "GroundTruth:  deer   dog truck  ship\n",
      "Predicted:   deer   dog truck  ship\n"
     ]
    }
   ],
   "source": [
    "dataiter = iter(testloader)\n",
    "images, labels = dataiter.next()\n",
    "\n",
    "# Print Images\n",
    "imshow(torchvision.utils.make_grid(images))\n",
    "print('GroundTruth:', ' '.join('%5s' % classes[labels[j]] for j in range(4)))\n",
    "\n",
    "net = Net()\n",
    "if n_gpu > 1:\n",
    "    net = nn.DataParallel(net, list(range(n_gpu)))\n",
    "net.load_state_dict(torch.load('./checkpoints/cifar_net_' + str(35) + '.pt'))\n",
    "net.to(device)\n",
    "images = images.to(device)\n",
    "labels = labels.to(device)\n",
    "outputs = net(images)\n",
    "\n",
    "_, predicted = torch.max(outputs, 1)\n",
    "print('Predicted: ', ' '.join('%5s' % classes[predicted[j]] for j in range(4)))\n"
   ]
  },
  {
   "cell_type": "code",
   "execution_count": 87,
   "metadata": {},
   "outputs": [
    {
     "name": "stdout",
     "output_type": "stream",
     "text": [
      "Accuracy of the network on the 10000 test images: 96 %\n"
     ]
    }
   ],
   "source": [
    "correct = 0\n",
    "total = 0\n",
    "with torch.no_grad():\n",
    "    for data in testloader:\n",
    "        images, labels = data[0].to(device), data[1].to(device)\n",
    "        outputs = net(images)\n",
    "        _, predicted = torch.max(outputs.data, 1)\n",
    "        total += labels.size(0)\n",
    "        correct += (predicted == labels).sum().item()\n",
    "\n",
    "print('Accuracy of the network on the 10000 test images: %d %%' % (\n",
    "    100 * correct / total))\n"
   ]
  },
  {
   "cell_type": "code",
   "execution_count": 88,
   "metadata": {},
   "outputs": [
    {
     "name": "stdout",
     "output_type": "stream",
     "text": [
      "Accuracy of plane : 97 %\n",
      "Accuracy of   car : 99 %\n",
      "Accuracy of  bird : 93 %\n",
      "Accuracy of   cat : 93 %\n",
      "Accuracy of  deer : 96 %\n",
      "Accuracy of   dog : 95 %\n",
      "Accuracy of  frog : 98 %\n",
      "Accuracy of horse : 98 %\n",
      "Accuracy of  ship : 97 %\n",
      "Accuracy of truck : 98 %\n"
     ]
    }
   ],
   "source": [
    "class_correct = list(0. for i in range(10))\n",
    "class_total = list(0. for i in range(10))\n",
    "with torch.no_grad():\n",
    "    for data in testloader:\n",
    "        images, labels = data[0].to(device), data[1].to(device)\n",
    "        outputs = net(images)\n",
    "        _, predicted = torch.max(outputs, 1)\n",
    "        c = (predicted == labels).squeeze()\n",
    "        for i in range(4):\n",
    "            label = labels[i]\n",
    "            class_correct[label] += c[i].item()\n",
    "            class_total[label] += 1\n",
    "\n",
    "\n",
    "for i in range(10):\n",
    "    print('Accuracy of %5s : %2d %%' % (\n",
    "        classes[i], 100 * class_correct[i] / class_total[i]))"
   ]
  },
  {
   "cell_type": "code",
   "execution_count": null,
   "metadata": {},
   "outputs": [],
   "source": []
  }
 ],
 "metadata": {
  "kernelspec": {
   "display_name": "Python 3",
   "language": "python",
   "name": "python3"
  },
  "language_info": {
   "codemirror_mode": {
    "name": "ipython",
    "version": 3
   },
   "file_extension": ".py",
   "mimetype": "text/x-python",
   "name": "python",
   "nbconvert_exporter": "python",
   "pygments_lexer": "ipython3",
   "version": "3.7.3"
  }
 },
 "nbformat": 4,
 "nbformat_minor": 4
}
